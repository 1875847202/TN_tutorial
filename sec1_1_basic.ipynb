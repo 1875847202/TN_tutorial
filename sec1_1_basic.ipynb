{
 "cells": [
  {
   "cell_type": "code",
   "execution_count": null,
   "metadata": {},
   "outputs": [],
   "source": [
    "import numpy as np"
   ]
  },
  {
   "cell_type": "code",
   "execution_count": null,
   "metadata": {},
   "outputs": [],
   "source": [
    "# 标量\n",
    "x = 1.4\n",
    "print(x)\n",
    "y = x + 1j*2.1\n",
    "print(y)\n",
    "print(y ** 2)  # y的平方"
   ]
  },
  {
   "cell_type": "code",
   "execution_count": null,
   "metadata": {},
   "outputs": [],
   "source": [
    "# 向量\n",
    "v = np.random.randn(4, )  # 生成长度为4的随机向量\n",
    "print(v)\n",
    "print(v.shape)  # v的形状\n",
    "print(v.size)  # v中包含的元素的个数\n",
    "print(v.dot(v))  # v和v的内积\n",
    "v[1] = 10.21  # 修改v的某个元素\n",
    "print(v)\n",
    "\n",
    "# -----------------------------------------\n",
    "# 练习：生成长度为8的全零向量"
   ]
  },
  {
   "cell_type": "code",
   "execution_count": null,
   "metadata": {},
   "outputs": [],
   "source": [
    "# 矩阵\n",
    "m = np.random.randn(2, 2) + np.random.randn(2, 2) * 1j  # 生成2*2的随机复矩阵\n",
    "print(m)\n",
    "m[1, 0] = 6.6666 + 1j # 修改m的第1行第0列的值\n",
    "print('')\n",
    "print(m)\n",
    "\n",
    "print('\\n Conjugate of the matrix:')\n",
    "print(m.conj())\n",
    "print('\\n Conjugate transpose of the matrix:')\n",
    "print(m.conj().T)\n",
    "\n",
    "print('\\n Identity: ')\n",
    "print(np.eye(2))  # 打印单位阵\n",
    "\n",
    "# -----------------------------------------\n",
    "# 练习：1. 生成泡利矩阵；2. 打印泡利矩阵sx的形状以及其元素的总个数"
   ]
  },
  {
   "cell_type": "code",
   "execution_count": null,
   "metadata": {},
   "outputs": [],
   "source": [
    "# 张量\n",
    "x = np.random.randn(2, 2, 2)  # 随机生成一个2*2*2的三阶张量\n",
    "print(x)\n",
    "print(x.ndim)  # 张量的阶数\n",
    "\n",
    "# -----------------------------------------\n",
    "# 练习：1. 生成全1的3*3*2*3的4阶张量；2. 打印所生成张量的形状与所含元素的总个数；3. 尝试修改张量某个元素的值"
   ]
  },
  {
   "cell_type": "code",
   "execution_count": null,
   "metadata": {},
   "outputs": [],
   "source": [
    "# 例：向量的reshape与transpose\n",
    "\n",
    "print('-' * 30)\n",
    "v = np.arange(0, 6, 1)\n",
    "print(v)\n",
    "print('-' * 30)\n",
    "print(v.reshape(2, 3))\n",
    "print('-' * 30)\n",
    "print(v.reshape(3, 2))\n"
   ]
  },
  {
   "cell_type": "code",
   "execution_count": null,
   "metadata": {},
   "outputs": [],
   "source": [
    "# 例：矩阵的reshape和transpose\n",
    "\n",
    "print('-' * 30)\n",
    "m = np.array([[11, 12, 13], [21, 22, 23]])\n",
    "print(m)\n",
    "print('-' * 30)\n",
    "print(m.transpose(1, 0))\n",
    "print('-' * 30)\n",
    "print(m.T)\n",
    "print('-' * 30)\n",
    "print(m.reshape(3, 2))\n",
    "print('-' * 30)\n",
    "print(m.reshape(6, ))\n"
   ]
  },
  {
   "cell_type": "code",
   "execution_count": null,
   "metadata": {},
   "outputs": [],
   "source": [
    "# 切片操作\n",
    "\n",
    "print('-' * 30)\n",
    "v = np.arange(6)\n",
    "print(v)\n",
    "print('-' * 30)\n",
    "print(v[:3])\n",
    "print(v[2:])\n",
    "print(v[1:3])\n",
    "\n",
    "print('=' * 30)\n",
    "m = np.random.randn(4, 4)\n",
    "print(m)\n",
    "print('-' * 30)\n",
    "print(m[1:3, :2])"
   ]
  },
  {
   "cell_type": "code",
   "execution_count": null,
   "metadata": {},
   "outputs": [],
   "source": [
    "# 张量的切片\n",
    "\n",
    "x = np.random.randn(4, 4, 4)\n",
    "y = x[:3, 1:3, 1:]\n",
    "print(y.shape)"
   ]
  },
  {
   "cell_type": "code",
   "execution_count": null,
   "metadata": {},
   "outputs": [],
   "source": [
    "# 彩色RGB图对应的数据为三维张量\n",
    "import cv2\n",
    "import matplotlib.pyplot as plt\n",
    "\n",
    "img = cv2.imread('./Imgs/example1.jpg')  # 读取RGB图片\n",
    "print(\"Shape of the image data = \" + str(img.shape))  # 显示图片尺寸\n",
    "plt.imshow(img)\n",
    "plt.show()\n",
    "print('print part of the R channel:')\n",
    "print(img[80:90, 80:90, 0])\n"
   ]
  }
 ],
 "metadata": {
  "kernelspec": {
   "display_name": "Python 3",
   "language": "python",
   "name": "python3"
  },
  "language_info": {
   "codemirror_mode": {
    "name": "ipython",
    "version": 3
   },
   "file_extension": ".py",
   "mimetype": "text/x-python",
   "name": "python",
   "nbconvert_exporter": "python",
   "pygments_lexer": "ipython3",
   "version": "3.6.7"
  }
 },
 "nbformat": 4,
 "nbformat_minor": 4
}
