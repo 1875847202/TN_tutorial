{
 "cells": [
  {
   "cell_type": "code",
   "execution_count": 17,
   "metadata": {},
   "outputs": [],
   "source": [
    "import numpy as np"
   ]
  },
  {
   "cell_type": "code",
   "execution_count": null,
   "metadata": {},
   "outputs": [],
   "source": [
    "# 向量内积、外积与克罗内克积\n",
    "\n",
    "np.random.seed(0)\n",
    "dim = 3\n",
    "x = np.random.randn(dim, )\n",
    "y = np.random.randn(dim, )\n",
    "print('x = ')\n",
    "print(x)\n",
    "print('y = ')\n",
    "print(y)\n",
    "\n",
    "print('\\n Inner product of vectors: ')\n",
    "print(np.inner(x, y))\n",
    "print(np.dot(x, y))\n",
    "print(x.dot(y))"
   ]
  },
  {
   "cell_type": "code",
   "execution_count": null,
   "metadata": {},
   "outputs": [],
   "source": [
    "# 向量的外积与克罗内克积\n",
    "\n",
    "print('x = ')\n",
    "print(x)\n",
    "print('y = ')\n",
    "print(y)\n",
    "\n",
    "print('\\n Outer product of vectors:')\n",
    "u = np.outer(x, y)\n",
    "print(u)\n",
    "\n",
    "print('\\n Kronecker  product of vectors:')\n",
    "v = np.kron(x, y)\n",
    "print(v)\n",
    "\n",
    "# -----------------------------------------\n",
    "# 练习：如何操作可从u可获得v？"
   ]
  },
  {
   "cell_type": "code",
   "execution_count": null,
   "metadata": {},
   "outputs": [],
   "source": [
    "# 矩阵相关计算\n",
    "\n",
    "m = np.random.randn(dim, dim)\n",
    "print('m = ')\n",
    "print(m)\n",
    "print('x = ')\n",
    "print(x)\n",
    "print('\\n m matrix-multiply x = ')\n",
    "print(m.dot(x))\n",
    "\n",
    "print('\\n m matrix-multiply m = ')\n",
    "print(m.dot(m))\n",
    "\n",
    "print('\\n trace of m = ')\n",
    "print(m.trace())"
   ]
  },
  {
   "cell_type": "code",
   "execution_count": null,
   "metadata": {},
   "outputs": [],
   "source": [
    "# 张量相关计算: tensordot\n",
    "\n",
    "A = np.random.randn(5, 3, 2)\n",
    "B = np.random.randn(3, 6, 4)\n",
    "C1 = np.tensordot(A, B, [[1], [0]])\n",
    "print('The shape of C = ')\n",
    "print(C1.shape)\n",
    "\n",
    "# -----------------------------------------\n",
    "# 练习：使用reshape，transpose和dot实现上述tensordot运算"
   ]
  },
  {
   "cell_type": "code",
   "execution_count": 18,
   "metadata": {},
   "outputs": [
    {
     "name": "stdout",
     "output_type": "stream",
     "text": [
      "The shape of the resulting tensor = \n",
      "(5, 6, 4)\n",
      "\n",
      " The illustration of the tensor-network contraction:\n",
      "Shape of the image data = (369, 433, 3)\n"
     ]
    },
    {
     "data": {
      "image/png": "[encoded data removed]",
      "text/plain": [
       "<Figure size 432x288 with 1 Axes>"
      ]
     },
     "metadata": {
      "needs_background": "light"
     },
     "output_type": "display_data"
    }
   ],
   "source": [
    "# 张量相关计算: einsum\n",
    "\n",
    "A = np.random.randn(5, 3, 3)\n",
    "B = np.random.randn(6, 3, 3)\n",
    "C = np.random.randn(4, 3, 3)\n",
    "T = np.einsum('iab,jbc,kca->ijk', A, B, C)\n",
    "\n",
    "print('The shape of the resulting tensor = ')\n",
    "print(T.shape)\n",
    "print('\\n The illustration of the tensor-network contraction:')\n",
    "\n",
    "import PlotFun as pf\n",
    "pf.im_read_and_show('./Imgs/contract.png')\n"
   ]
  },
  {
   "cell_type": "code",
   "execution_count": null,
   "metadata": {},
   "outputs": [],
   "source": []
  }
 ],
 "metadata": {
  "kernelspec": {
   "display_name": "Python 3",
   "language": "python",
   "name": "python3"
  },
  "language_info": {
   "codemirror_mode": {
    "name": "ipython",
    "version": 3
   },
   "file_extension": ".py",
   "mimetype": "text/x-python",
   "name": "python",
   "nbconvert_exporter": "python",
   "pygments_lexer": "ipython3",
   "version": "3.6.7"
  }
 },
 "nbformat": 4,
 "nbformat_minor": 4
}
