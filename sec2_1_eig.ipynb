{
 "cells": [
  {
   "cell_type": "code",
   "execution_count": 13,
   "metadata": {},
   "outputs": [],
   "source": [
    "import numpy as np"
   ]
  },
  {
   "cell_type": "code",
   "execution_count": 14,
   "metadata": {
    "scrolled": true
   },
   "outputs": [
    {
     "name": "stdout",
     "output_type": "stream",
     "text": [
      "[[-1.91917762 -0.53948154 -0.36872538 -0.61485743]\n",
      " [-0.53948154 -0.89703284 -2.89696976  1.87971844]\n",
      " [-0.36872538 -2.89696976  1.64887179 -0.37084167]\n",
      " [-0.61485743  1.87971844 -0.37084167 -5.12963582]]\n",
      "\n",
      " Eigenvalues:\n",
      "[-5.94298658 -2.90295773 -1.20156739  3.75053722]\n",
      "\n",
      " Eigenvectors:\n",
      "[[ 0.07809956  0.63699787 -0.76667823 -0.01840288]\n",
      " [-0.38901082  0.58289398  0.431028    0.5684365 ]\n",
      " [-0.10007863  0.44233509  0.3767093  -0.80772151]\n",
      " [ 0.91244469  0.24250358  0.29070512  0.15532946]]\n"
     ]
    }
   ],
   "source": [
    "dim = 4\n",
    "M = np.random.randn(dim, dim)\n",
    "M = M + M.T  # 对称化以保证本征分解存在\n",
    "print(M)\n",
    "\n",
    "lm, u = np.linalg.eig(M)\n",
    "print('\\n Eigenvalues:')\n",
    "print(lm)\n",
    "\n",
    "print('\\n Eigenvectors:')\n",
    "print(u)"
   ]
  },
  {
   "cell_type": "code",
   "execution_count": 15,
   "metadata": {},
   "outputs": [
    {
     "name": "stdout",
     "output_type": "stream",
     "text": [
      "\n",
      " Check the orthogonality of U\n",
      "[[ 1.00000000e+00 -1.66533454e-16 -1.66533454e-16  0.00000000e+00]\n",
      " [-1.66533454e-16  1.00000000e+00  3.33066907e-16 -8.32667268e-17]\n",
      " [-1.66533454e-16  3.33066907e-16  1.00000000e+00  1.45716772e-16]\n",
      " [ 0.00000000e+00 -8.32667268e-17  1.45716772e-16  1.00000000e+00]]\n"
     ]
    }
   ],
   "source": [
    "print('\\n Check the orthogonality of U')\n",
    "print(u.dot(u.T))"
   ]
  },
  {
   "cell_type": "code",
   "execution_count": 16,
   "metadata": {},
   "outputs": [
    {
     "name": "stdout",
     "output_type": "stream",
     "text": [
      "\n",
      " The error of the eigenvalue decomposition = \n",
      "3.1908049232143108e-15\n"
     ]
    }
   ],
   "source": [
    "print('\\n The error of the eigenvalue decomposition = ')\n",
    "M1 = u.dot(np.diag(lm)).dot(u.T)\n",
    "err = np.linalg.norm(M - M1)\n",
    "print(err)\n",
    "\n",
    "# 练习：编写程序完成如下任务\n",
    "# 1. 验证u的每一列都是矩阵M的本征向量\n",
    "# 2. 验证U第n列给出的向量对应的本征值为lm的第n个元素"
   ]
  }
 ],
 "metadata": {
  "kernelspec": {
   "display_name": "Python 3",
   "language": "python",
   "name": "python3"
  },
  "language_info": {
   "codemirror_mode": {
    "name": "ipython",
    "version": 3
   },
   "file_extension": ".py",
   "mimetype": "text/x-python",
   "name": "python",
   "nbconvert_exporter": "python",
   "pygments_lexer": "ipython3",
   "version": "3.8.2"
  }
 },
 "nbformat": 4,
 "nbformat_minor": 4
}
